{
 "cells": [
  {
   "cell_type": "code",
   "execution_count": 16,
   "metadata": {},
   "outputs": [],
   "source": [
    "import numpy as np\n",
    "import pandas as pd\n",
    "from sklearn.feature_extraction.text import TfidfVectorizer\n",
    "from sklearn.metrics.pairwise import linear_kernel\n"
   ]
  },
  {
   "cell_type": "code",
   "execution_count": 17,
   "metadata": {},
   "outputs": [
    {
     "name": "stderr",
     "output_type": "stream",
     "text": [
      "C:\\Users\\CARRILLO JARA\\AppData\\Local\\Temp\\ipykernel_14216\\2153530261.py:1: DtypeWarning: Columns (10) have mixed types. Specify dtype option on import or set low_memory=False.\n",
      "  data=pd.read_csv('movies_dataset.csv')\n"
     ]
    }
   ],
   "source": [
    "data=pd.read_csv('movies_dataset.csv')"
   ]
  },
  {
   "cell_type": "code",
   "execution_count": 18,
   "metadata": {},
   "outputs": [],
   "source": [
    "# Eliminamos las filas duplicadas en base a la columna 'title'\n",
    "data = data.drop_duplicates(subset='title')  \n"
   ]
  },
  {
   "cell_type": "code",
   "execution_count": 19,
   "metadata": {},
   "outputs": [],
   "source": [
    "# Calculamos el promedio de la columna 'vote_average' y lo guarda en la variable C\n",
    "C = data['vote_average'].mean()  \n"
   ]
  },
  {
   "cell_type": "code",
   "execution_count": 20,
   "metadata": {},
   "outputs": [],
   "source": [
    "# Calcula el percentil 90 de la columna 'vote_count' y lo guarda en la variable m\n",
    "m = data['vote_count'].quantile(0.90)  "
   ]
  },
  {
   "cell_type": "code",
   "execution_count": 21,
   "metadata": {},
   "outputs": [],
   "source": [
    "# Filtra las filas donde 'vote_count' es mayor o igual que el percentil 90 y actualiza el DataFrame\n",
    "data = data.loc[data['vote_count'] >= m]  "
   ]
  },
  {
   "cell_type": "code",
   "execution_count": 22,
   "metadata": {},
   "outputs": [],
   "source": [
    "# Define una función 'weighted_rating' que calcula un puntaje ponderado para cada fila\n",
    "def weighted_rating(x, m=m, C=C):\n",
    "    v = x['vote_count']\n",
    "    R = x['vote_average']\n",
    "    return (v / (v + m) * R) + (m / (m + v) * C)\n"
   ]
  },
  {
   "cell_type": "code",
   "execution_count": 23,
   "metadata": {},
   "outputs": [],
   "source": [
    "# Aplica la función 'weighted_rating' a cada fila y guarda los resultados en una nueva columna 'score'\n",
    "data['score'] = data.apply(weighted_rating, axis=1)  "
   ]
  },
  {
   "cell_type": "code",
   "execution_count": 24,
   "metadata": {},
   "outputs": [],
   "source": [
    "# Ordena el DataFrame en base a la columna 'score' en orden descendente\n",
    "data = data.sort_values('score', ascending=False)  "
   ]
  },
  {
   "cell_type": "code",
   "execution_count": 25,
   "metadata": {},
   "outputs": [],
   "source": [
    "# Crea una instancia del vectorizador TF-IDF con palabras clave en inglés\n",
    "tfidf = TfidfVectorizer(stop_words='english')  "
   ]
  },
  {
   "cell_type": "code",
   "execution_count": 26,
   "metadata": {},
   "outputs": [],
   "source": [
    "# Rellena los valores faltantes de la columna 'overview' con una cadena vacía\n",
    "data['overview'] = data['overview'].fillna('')  "
   ]
  },
  {
   "cell_type": "code",
   "execution_count": 27,
   "metadata": {},
   "outputs": [],
   "source": [
    "# Transforma los datos de la columna 'overview' en una matriz TF-IDF\n",
    "tfidf_matrix = tfidf.fit_transform(data['overview'])  \n"
   ]
  },
  {
   "cell_type": "code",
   "execution_count": 28,
   "metadata": {},
   "outputs": [],
   "source": [
    "# Calcula la similitud del coseno entre las filas de la matriz TF-IDF\n",
    "cosine_sim = linear_kernel(tfidf_matrix, tfidf_matrix)  \n"
   ]
  },
  {
   "cell_type": "code",
   "execution_count": 29,
   "metadata": {},
   "outputs": [],
   "source": [
    "# Reinicia los índices del DataFrame y modifica el DataFrame en su lugar\n",
    "data.reset_index(drop=True, inplace=True)  \n"
   ]
  },
  {
   "cell_type": "code",
   "execution_count": null,
   "metadata": {},
   "outputs": [],
   "source": [
    "# Crea una Serie que mapea los títulos de las películas a sus índices correspondientes en el DataFrame\n",
    "index = pd.Series(data.index, index=data['title']).drop_duplicates()  \n"
   ]
  },
  {
   "attachments": {},
   "cell_type": "markdown",
   "metadata": {},
   "source": []
  },
  {
   "cell_type": "code",
   "execution_count": null,
   "metadata": {},
   "outputs": [],
   "source": []
  },
  {
   "cell_type": "code",
   "execution_count": null,
   "metadata": {},
   "outputs": [],
   "source": [
    "data = data.drop_duplicates(subset = 'title')\n",
    "C = data['vote_average'].mean()\n",
    "m = data['vote_count'].quantile(0.90)\n",
    "data = data.loc[data['vote_count'] >= m]\n",
    "def weighted_rating(x, m=m, C=C):\n",
    "    v = x['vote_count']\n",
    "    R = x['vote_average']\n",
    "    # Calculation based on the IMDB formula\n",
    "    return (v/(v+m) * R) + (m/(m+v) * C)\n",
    "data['score'] = data.apply(weighted_rating, axis=1)\n",
    "data = data.sort_values('score', ascending = False)\n",
    "tfidf = TfidfVectorizer(stop_words='english')\n",
    "data['overview'] = data['overview'].fillna('')\n",
    "tfidf_matrix = tfidf.fit_transform(data['overview'])\n",
    "cosine_sim = linear_kernel(tfidf_matrix, tfidf_matrix)\n",
    "data.reset_index(drop = True, inplace = True)\n",
    "index = pd.Series(data.index, index = data['title']).drop_duplicates()"
   ]
  },
  {
   "cell_type": "code",
   "execution_count": null,
   "metadata": {},
   "outputs": [],
   "source": [
    "def recomendacion(titulo, cosine_sim = cosine_sim):    \n",
    "    if titulo not in index:\n",
    "        return \"La película no se encuentra entre el 10% de las mejores películas. Intenta con una mejor!\"\n",
    "\n",
    "    idx = index[titulo]\n",
    "    sim_scores = list(enumerate(cosine_sim[idx]))\n",
    "    sim_scores = sorted(sim_scores, key = lambda x: x[1], reverse = True)\n",
    "    sim_scores = sim_scores[1:6]\n",
    "    movie_indices = [i[0] for i in sim_scores]\n",
    "    result = data['title'].iloc[movie_indices]\n",
    "    return {\"Te recomendamos estas peliculas\" : list(result)}"
   ]
  },
  {
   "cell_type": "code",
   "execution_count": null,
   "metadata": {},
   "outputs": [],
   "source": [
    "recomendacion('Avatar')"
   ]
  }
 ],
 "metadata": {
  "kernelspec": {
   "display_name": "Python 3",
   "language": "python",
   "name": "python3"
  },
  "language_info": {
   "codemirror_mode": {
    "name": "ipython",
    "version": 3
   },
   "file_extension": ".py",
   "mimetype": "text/x-python",
   "name": "python",
   "nbconvert_exporter": "python",
   "pygments_lexer": "ipython3",
   "version": "3.10.11"
  },
  "orig_nbformat": 4
 },
 "nbformat": 4,
 "nbformat_minor": 2
}
