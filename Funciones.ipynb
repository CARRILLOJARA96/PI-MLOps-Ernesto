{
 "cells": [
  {
   "cell_type": "code",
   "execution_count": 1,
   "metadata": {},
   "outputs": [],
   "source": [
    "#IMPORTAMOS LAS LIBRERIAS QUE SE USARAN EN EL ETL\n",
    "import numpy as np\n",
    "import pandas as pd\n",
    "from sklearn.feature_extraction.text import TfidfVectorizer\n",
    "from sklearn.metrics.pairwise import linear_kernel\n",
    "import json\n",
    "import ast"
   ]
  },
  {
   "cell_type": "code",
   "execution_count": 2,
   "metadata": {},
   "outputs": [],
   "source": [
    "#cargamos el dataset .csv \n",
    "movies_clean=pd.read_csv('datasets/movies_clean.csv')"
   ]
  },
  {
   "cell_type": "code",
   "execution_count": 3,
   "metadata": {},
   "outputs": [
    {
     "name": "stdout",
     "output_type": "stream",
     "text": [
      "<class 'pandas.core.frame.DataFrame'>\n",
      "RangeIndex: 45376 entries, 0 to 45375\n",
      "Data columns (total 19 columns):\n",
      " #   Column                 Non-Null Count  Dtype  \n",
      "---  ------                 --------------  -----  \n",
      " 0   belongs_to_collection  4488 non-null   object \n",
      " 1   budget                 45376 non-null  float64\n",
      " 2   genres                 42992 non-null  object \n",
      " 3   id                     45376 non-null  int64  \n",
      " 4   original_language      45365 non-null  object \n",
      " 5   overview               44435 non-null  object \n",
      " 6   popularity             45376 non-null  float64\n",
      " 7   production_companies   33580 non-null  object \n",
      " 8   production_countries   39165 non-null  object \n",
      " 9   release_date           45376 non-null  object \n",
      " 10  revenue                45376 non-null  float64\n",
      " 11  runtime                45130 non-null  float64\n",
      " 12  spoken_languages       41608 non-null  object \n",
      " 13  status                 45296 non-null  object \n",
      " 14  tagline                20398 non-null  object \n",
      " 15  title                  45376 non-null  object \n",
      " 16  vote_average           45376 non-null  float64\n",
      " 17  release_year           45376 non-null  int64  \n",
      " 18  return                 45376 non-null  float64\n",
      "dtypes: float64(6), int64(2), object(11)\n",
      "memory usage: 6.6+ MB\n"
     ]
    }
   ],
   "source": [
    "movies_clean.info()"
   ]
  },
  {
   "attachments": {},
   "cell_type": "markdown",
   "metadata": {},
   "source": [
    "*FUNCIONES SOLICITADAS PARA EL API"
   ]
  },
  {
   "cell_type": "code",
   "execution_count": 4,
   "metadata": {},
   "outputs": [],
   "source": [
    "#funcion de consulta de películas por mes\n",
    "def peliculas_mes(mes:str):\n",
    "\n",
    "    mes = mes.lower()\n",
    "    meses = {'enero': 1,'febrero': 2,'marzo': 3,'abril': 4,'mayo': 5,'junio': 6,'julio': 7,'agosto': 8,'septiembre': 9,'octubre': 10,'noviembre': 11,'diciembre': 12}\n",
    "    mes_numero = meses[mes]\n",
    "\n",
    "    # Convertir la columna \"fecha\" a un objeto de tipo fecha\n",
    "    movies_clean['release_date'] = pd.to_datetime(movies_clean['release_date'])\n",
    "\n",
    "    try:\n",
    "        month_filtered = movies_clean[movies_clean['release_date'].dt.month == mes_numero]\n",
    "    except (ValueError, KeyError, TypeError):\n",
    "        return None\n",
    "\n",
    "    month_unique = month_filtered.drop_duplicates(subset='id')\n",
    "    respuesta = month_unique.shape[0]\n",
    "\n",
    "    return {'mes':mes, 'cantidad':respuesta}"
   ]
  },
  {
   "cell_type": "code",
   "execution_count": 5,
   "metadata": {},
   "outputs": [
    {
     "data": {
      "text/plain": [
       "{'mes': 'febrero', 'cantidad': 3028}"
      ]
     },
     "execution_count": 5,
     "metadata": {},
     "output_type": "execute_result"
    }
   ],
   "source": [
    "peliculas_mes('febrero')"
   ]
  },
  {
   "cell_type": "code",
   "execution_count": 6,
   "metadata": {},
   "outputs": [],
   "source": [
    "# Funcion de consulta de peliculas por dia de la semana \n",
    "def peliculas_dia(dia:str):\n",
    "\n",
    "    days = {'lunes': 'Monday', 'martes': 'Tuesday','miercoles': 'Wednesday','jueves': 'Thursday','viernes': 'Friday','sabado': 'Saturday','domingo': 'Sunday'}\n",
    "    day = days[dia.lower()]\n",
    "    lista_peliculas_day = movies_clean[movies_clean['release_date'].dt.day_name() == day].drop_duplicates(subset='id')\n",
    "    cantidad = lista_peliculas_day.shape[0]\n",
    "\n",
    "    return {'dia': dia, 'cantidad': cantidad}"
   ]
  },
  {
   "cell_type": "code",
   "execution_count": 7,
   "metadata": {},
   "outputs": [
    {
     "data": {
      "text/plain": [
       "{'dia': 'miercoles', 'cantidad': 7027}"
      ]
     },
     "execution_count": 7,
     "metadata": {},
     "output_type": "execute_result"
    }
   ],
   "source": [
    "peliculas_dia('miercoles')"
   ]
  },
  {
   "cell_type": "code",
   "execution_count": 8,
   "metadata": {},
   "outputs": [],
   "source": [
    "# # Funcion de consulta del numero de colecciones de peliculas, su ganancia total y ganancia promedio  otro metodo\n",
    "def franquicia(franquicia):\n",
    "    movies_clean['belongs_to_collection']=movies_clean['belongs_to_collection'].fillna(\"\")\n",
    "    #lista_pelis_franquicia = movies_clean[(movies_clean['belongs_to_collection'] == 'franquicia')].drop_duplicates(subset='id')\n",
    "    franquicia_df=movies_clean[movies_clean['belongs_to_collection'].apply (lambda x: franquicia in str(x))]\n",
    "    #para jalar la cantidad e peliculas, ganancia total \n",
    "    cantidad_pelis = len(franquicia_df)\n",
    "    revenue_franq = franquicia_df['revenue'].sum()\n",
    "    promedio_franq = franquicia_df['revenue'].mean()\n",
    "    return {'franquicia':franquicia, 'cantidad':cantidad_pelis, 'ganancia_total':revenue_franq, 'ganancia_promedio':promedio_franq}"
   ]
  },
  {
   "cell_type": "code",
   "execution_count": 9,
   "metadata": {},
   "outputs": [
    {
     "data": {
      "text/plain": [
       "{'franquicia': 'Toy Story Collection',\n",
       " 'cantidad': 3,\n",
       " 'ganancia_total': 1937890605.0,\n",
       " 'ganancia_promedio': 645963535.0}"
      ]
     },
     "execution_count": 9,
     "metadata": {},
     "output_type": "execute_result"
    }
   ],
   "source": [
    "franquicia('Toy Story Collection')"
   ]
  },
  {
   "cell_type": "code",
   "execution_count": 10,
   "metadata": {},
   "outputs": [],
   "source": [
    "# 4. Funcion de consulta del numero de peliculas por pais \n",
    "def peliculas_pais(pais):\n",
    "    # Selecciona todas las películas del DataFrame 'movies_clean' cuya columna 'production_country' contiene el país especificado.\n",
    "    # La función lambda se utiliza para aplicar la operación a cada valor de la columna 'production_country'.\n",
    "    peliculas_pais = movies_clean[movies_clean['production_countries'].apply(lambda x: pais in str(x) if pd.notnull(x) else False)]\n",
    "    \n",
    "    # Elimina las filas duplicadas de la película para evitar contar varias veces una misma película.\n",
    "    peliculas_pais = peliculas_pais.drop_duplicates(subset='id')\n",
    "    \n",
    "    # Cuenta la cantidad de películas restantes después de eliminar los duplicados.\n",
    "    cantidad_peliculas = len(peliculas_pais)\n",
    "    \n",
    "    # Devuelve los resultados en un diccionario con claves legibles.\n",
    "    return {'pais': pais, 'cantidad': cantidad_peliculas}\n"
   ]
  },
  {
   "cell_type": "code",
   "execution_count": 11,
   "metadata": {},
   "outputs": [
    {
     "data": {
      "text/plain": [
       "{'pais': 'United States of America', 'cantidad': 21134}"
      ]
     },
     "execution_count": 11,
     "metadata": {},
     "output_type": "execute_result"
    }
   ],
   "source": [
    "peliculas_pais('United States of America')"
   ]
  },
  {
   "cell_type": "code",
   "execution_count": 12,
   "metadata": {},
   "outputs": [],
   "source": [
    "# 5. Funcion de consulta del numero de peliculas por productora, ganancias totales y numero de peliculas\n",
    "def productoras(productora):\n",
    "    movies_clean['production_companies']=movies_clean['production_companies'].fillna(\"\")\n",
    "    productora_df=movies_clean[movies_clean['production_companies'].apply(lambda x: productora in str(x))]\n",
    "\n",
    "    ganancia_total= productora_df['revenue'].sum()\n",
    "    cantidad_pelis_prod= len(productora_df)\n",
    "\n",
    "    return {'productora':productora, 'ganancia_total':ganancia_total, 'cantidad':cantidad_pelis_prod}"
   ]
  },
  {
   "cell_type": "code",
   "execution_count": 13,
   "metadata": {},
   "outputs": [
    {
     "data": {
      "text/plain": [
       "{'productora': 'Pixar Animation Studios',\n",
       " 'ganancia_total': 11188533734.0,\n",
       " 'cantidad': 52}"
      ]
     },
     "execution_count": 13,
     "metadata": {},
     "output_type": "execute_result"
    }
   ],
   "source": [
    "productoras('Pixar Animation Studios')"
   ]
  },
  {
   "cell_type": "code",
   "execution_count": 14,
   "metadata": {},
   "outputs": [],
   "source": [
    "#6.  Funcion de consulta de peliculas, su inversion, ganancias, retorno y año\n",
    "def retorno(pelicula):\n",
    "    info_pelicula = movies_clean[(movies_clean['title'] == pelicula)].drop_duplicates(subset='title')\n",
    "    pelicula_nombre = info_pelicula['title'].iloc[0]\n",
    "    inversion_pelicula = str(info_pelicula['budget'].iloc[0])\n",
    "    ganancia_pelicula = str(info_pelicula['revenue'].iloc[0])\n",
    "    retorno_pelicula = str(info_pelicula['return'].iloc[0])\n",
    "    year_pelicula = str(info_pelicula['release_year'].iloc[0])\n",
    "\n",
    "    return {'pelicula':pelicula_nombre, 'inversion':inversion_pelicula, 'ganacia':ganancia_pelicula,'retorno':retorno_pelicula, 'anio':year_pelicula}"
   ]
  },
  {
   "cell_type": "code",
   "execution_count": 15,
   "metadata": {},
   "outputs": [
    {
     "data": {
      "text/plain": [
       "{'pelicula': 'Jumanji',\n",
       " 'inversion': '65000000.0',\n",
       " 'ganacia': '262797249.0',\n",
       " 'retorno': '4.0430346',\n",
       " 'anio': '1995'}"
      ]
     },
     "execution_count": 15,
     "metadata": {},
     "output_type": "execute_result"
    }
   ],
   "source": [
    "retorno('Jumanji')"
   ]
  },
  {
   "cell_type": "code",
   "execution_count": 16,
   "metadata": {},
   "outputs": [
    {
     "name": "stderr",
     "output_type": "stream",
     "text": [
      "C:\\Users\\CARRILLO JARA\\AppData\\Local\\Temp\\ipykernel_18012\\2963903898.py:1: DtypeWarning: Columns (10) have mixed types. Specify dtype option on import or set low_memory=False.\n",
      "  data=pd.read_csv('datasets/movies_dataset.csv')\n"
     ]
    }
   ],
   "source": [
    "data=pd.read_csv('datasets/movies_dataset.csv')"
   ]
  },
  {
   "cell_type": "code",
   "execution_count": 17,
   "metadata": {},
   "outputs": [],
   "source": [
    "data = data.drop_duplicates(subset = 'title')\n",
    "C = data['vote_average'].mean()\n",
    "m = data['vote_count'].quantile(0.90)\n",
    "data = data.loc[data['vote_count'] >= m]\n",
    "def weighted_rating(x, m=m, C=C):\n",
    "    v = x['vote_count']\n",
    "    R = x['vote_average']\n",
    "    # Calculation based on the IMDB formula\n",
    "    return (v/(v+m) * R) + (m/(m+v) * C)\n",
    "data['score'] = data.apply(weighted_rating, axis=1)\n",
    "data = data.sort_values('score', ascending = False)\n",
    "tfidf = TfidfVectorizer(stop_words='english')\n",
    "data['overview'] = data['overview'].fillna('')\n",
    "tfidf_matrix = tfidf.fit_transform(data['overview'])\n",
    "cosine_sim = linear_kernel(tfidf_matrix, tfidf_matrix)\n",
    "data.reset_index(drop = True, inplace = True)\n",
    "index = pd.Series(data.index, index = data['title']).drop_duplicates()"
   ]
  },
  {
   "cell_type": "code",
   "execution_count": 18,
   "metadata": {},
   "outputs": [],
   "source": [
    "# 7 recomendacion \n",
    "def recomendacion(titulo:str):  \n",
    "    local_cosine_sim = cosine_sim\n",
    "    if titulo not in index:\n",
    "        return \"La película no se encuentra entra en la Base de Datos, Intenta con otra!\"\n",
    "\n",
    "    idx = index[titulo]\n",
    "    sim_scores = list(enumerate(cosine_sim[idx]))\n",
    "    sim_scores = sorted(sim_scores, key = lambda x: x[1], reverse = True)\n",
    "    sim_scores = sim_scores[1:6]\n",
    "    movie_indices = [i[0] for i in sim_scores]\n",
    "    result = data['title'].iloc[movie_indices]\n",
    "    return {\"lista recomendada\" : list(result)}"
   ]
  },
  {
   "cell_type": "code",
   "execution_count": 19,
   "metadata": {},
   "outputs": [
    {
     "data": {
      "text/plain": [
       "{'lista recomendada': ['Apollo 18',\n",
       "  'The American',\n",
       "  'The Matrix',\n",
       "  'Europa Report',\n",
       "  'A Grand Day Out']}"
      ]
     },
     "execution_count": 19,
     "metadata": {},
     "output_type": "execute_result"
    }
   ],
   "source": [
    "recomendacion('Avatar')"
   ]
  }
 ],
 "metadata": {
  "kernelspec": {
   "display_name": "Python 3",
   "language": "python",
   "name": "python3"
  },
  "language_info": {
   "codemirror_mode": {
    "name": "ipython",
    "version": 3
   },
   "file_extension": ".py",
   "mimetype": "text/x-python",
   "name": "python",
   "nbconvert_exporter": "python",
   "pygments_lexer": "ipython3",
   "version": "3.10.11"
  },
  "orig_nbformat": 4
 },
 "nbformat": 4,
 "nbformat_minor": 2
}
